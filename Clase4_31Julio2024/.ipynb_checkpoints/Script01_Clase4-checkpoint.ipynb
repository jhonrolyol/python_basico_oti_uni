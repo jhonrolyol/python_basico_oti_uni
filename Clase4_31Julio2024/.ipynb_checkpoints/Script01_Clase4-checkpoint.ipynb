{
 "cells": [
  {
   "cell_type": "code",
   "execution_count": 2,
   "metadata": {
    "colab": {
     "base_uri": "https://localhost:8080/"
    },
    "executionInfo": {
     "elapsed": 59047,
     "status": "ok",
     "timestamp": 1722432220659,
     "user": {
      "displayName": "Abraham Zamudio",
      "userId": "17856795790189684981"
     },
     "user_tz": 300
    },
    "id": "SOWmb-YC35Fu",
    "outputId": "154457aa-e2e2-4a3c-dee1-24fe2cc00555"
   },
   "outputs": [
    {
     "name": "stdout",
     "output_type": "stream",
     "text": [
      "Ingresa el nombre del primer producto : arroz\n",
      "Ingresa el nombre del segundo producto : azucar\n",
      "Ingresa el nombre del tercer producto : sal\n",
      "\n",
      "Lista del Mcdo\n",
      "==============\n",
      "\n",
      "  Producto 1 : arroz\n",
      "  Producto 2 : azucar\n",
      "  Producto 3 : sal\n",
      "\n",
      "\n",
      "Cantidad del producto arroz: 2.5\n",
      "Cantidad del producto azucar: 0.5\n",
      "Cantidad del producto sal: 0.5\n",
      "Precio del producto 1 : 5.8\n",
      "Precio del producto 2 : 3.6\n",
      "Precio del producto 3 : 1\n",
      "\n",
      "El Costo total es : 16.800\n",
      "\n"
     ]
    }
   ],
   "source": [
    "# Ejemplito : Lista del mercado\n",
    "# Pedir al usuario que ingrese una serie de 3 productos con sus respectivas cantidades\n",
    "# Ademas del precio por unidad de cada producto.\n",
    "# Mostrar el costo total de esa lista del mercado\n",
    "\n",
    "# Lista de 3 productos\n",
    "prod1 = input(\"Ingresa el nombre del primer producto : \")\n",
    "prod2 = input(\"Ingresa el nombre del segundo producto : \")\n",
    "prod3 = input(\"Ingresa el nombre del tercer producto : \")\n",
    "\n",
    "# Mostremos esta informacion (nombres de los productos)\n",
    "print(\"\"\"\n",
    "Lista del Mcdo\n",
    "==============\n",
    "\n",
    "  Producto 1 : %s\n",
    "  Producto 2 : %s\n",
    "  Producto 3 : %s\n",
    "\n",
    "\"\"\" %(prod1, prod2, prod3))\n",
    "\n",
    "# Cantidades de cada uno de estos productos\n",
    "cant1 = float(input(\"Cantidad del producto \" + prod1 + \": \"))\n",
    "cant2 = float(input(\"Cantidad del producto \" + prod2 + \": \"))\n",
    "cant3 = float(input(\"Cantidad del producto \" + prod3 + \": \"))\n",
    "\n",
    "# Ingresemos el precio por unidad de cada producto\n",
    "precio1 = float(input(\"Precio del producto 1 : \"))\n",
    "precio2 = float(input(\"Precio del producto 2 : \"))\n",
    "precio3 = float(input(\"Precio del producto 3 : \"))\n",
    "\n",
    "# Hagamos las cuentas\n",
    "CostoTotalMcdo = cant1*precio1 + cant2*precio2 + cant3*precio3\n",
    "\n",
    "# Mostremos los resultados\n",
    "print(\"\"\"\n",
    "El Costo total es : %.3f\n",
    "\"\"\" %(CostoTotalMcdo))\n"
   ]
  },
  {
   "cell_type": "markdown",
   "metadata": {
    "id": "iT2Djwqk_MyR"
   },
   "source": [
    "# Estructura de decision"
   ]
  },
  {
   "cell_type": "markdown",
   "metadata": {
    "id": "ktm9xNg6_SVh"
   },
   "source": [
    "## Sentencia IF - ELIF - ELSE"
   ]
  },
  {
   "cell_type": "code",
   "execution_count": 3,
   "metadata": {
    "colab": {
     "base_uri": "https://localhost:8080/"
    },
    "executionInfo": {
     "elapsed": 353,
     "status": "ok",
     "timestamp": 1722432874389,
     "user": {
      "displayName": "Abraham Zamudio",
      "userId": "17856795790189684981"
     },
     "user_tz": 300
    },
    "id": "7nYvPHyk_erI",
    "outputId": "a33ee9ad-8009-4ceb-bb32-362d26a434c7"
   },
   "outputs": [
    {
     "name": "stdout",
     "output_type": "stream",
     "text": [
      "La condicional tiene valor de verdad : True\n"
     ]
    }
   ],
   "source": [
    "# Consideremos una condicional\n",
    "if 18 <= 22 :\n",
    "  print(\"La condicional tiene valor de verdad : True\")"
   ]
  },
  {
   "cell_type": "code",
   "execution_count": 18,
   "metadata": {
    "colab": {
     "base_uri": "https://localhost:8080/"
    },
    "executionInfo": {
     "elapsed": 364,
     "status": "ok",
     "timestamp": 1722434795850,
     "user": {
      "displayName": "Abraham Zamudio",
      "userId": "17856795790189684981"
     },
     "user_tz": 300
    },
    "id": "QxtdFejhAEa_",
    "outputId": "a92591bb-5adc-4d3c-b53e-89d1ea4f0d67"
   },
   "outputs": [
    {
     "name": "stdout",
     "output_type": "stream",
     "text": [
      "El segundo numero (18)  es mayor que el primer numero (1) \n"
     ]
    }
   ],
   "source": [
    "# Generemos dos numeros aleatorios\n",
    "import random as rnd\n",
    "\n",
    "num1 = rnd.randint(0,20)\n",
    "num2 = rnd.randint(0,20)\n",
    "\n",
    "if num1 != num2 :\n",
    "  if num1 > num2 :\n",
    "    print(\"El primer numero (%d) es mayor que el segundo numero (%d) \" %(num1, num2))\n",
    "  else:\n",
    "    print(\"El segundo numero (%d)  es mayor que el primer numero (%d) \" %(num2, num1))\n",
    "else:\n",
    "  print(\"Los numeros son iguales (%d)\" %(num1) )"
   ]
  },
  {
   "cell_type": "code",
   "execution_count": 16,
   "metadata": {
    "colab": {
     "base_uri": "https://localhost:8080/"
    },
    "executionInfo": {
     "elapsed": 7821,
     "status": "ok",
     "timestamp": 1722434661877,
     "user": {
      "displayName": "Abraham Zamudio",
      "userId": "17856795790189684981"
     },
     "user_tz": 300
    },
    "id": "ZH0TAjbDDDih",
    "outputId": "3f1de7e3-b395-4348-eaa9-586a543e3125"
   },
   "outputs": [
    {
     "name": "stdout",
     "output_type": "stream",
     "text": [
      "Ingresa tu nombre : Julio\n",
      "Hola Julio.Ingresa  tu edad : 55\n",
      "Debes de agregar a tu rutina un minimo de una hora en el gimnasio\n"
     ]
    }
   ],
   "source": [
    "# Pidamos al usuario su edad\n",
    "nombre = input(\"Ingresa tu nombre : \")\n",
    "edad = int(input(\"Hola \" + nombre + \".Ingresa  tu edad : \"))\n",
    "\n",
    "if edad>0 :\n",
    "  if edad <18:\n",
    "    print(\"Eres un menor de edad . Debes invertir tu tiempo en aprender a programar con Python (con otro profesor).\")\n",
    "  elif ((edad >= 18) and (edad < 40)):\n",
    "    print(\"Cada dia aprende mas \")\n",
    "  elif ((edad >= 40) and (edad <= 55)):\n",
    "    print(\"Debes de agregar a tu rutina un minimo de una hora en el gimnasio\")\n",
    "  elif ((edad > 55) and (edad <= 99)):\n",
    "    print(\"Cocecha lo que sembraste\")\n",
    "  else:\n",
    "    print(\"Agradece por cada dia \")\n",
    "else:\n",
    "  print(\"El valor ingresado a la edad es negativo\")"
   ]
  },
  {
   "cell_type": "markdown",
   "metadata": {
    "id": "L4NQVMtrH5VO"
   },
   "source": [
    "# Estructura repeticion"
   ]
  },
  {
   "cell_type": "markdown",
   "metadata": {
    "id": "oDWN-FKWH6Kk"
   },
   "source": [
    "## Estuctura for"
   ]
  },
  {
   "cell_type": "code",
   "execution_count": 19,
   "metadata": {
    "colab": {
     "base_uri": "https://localhost:8080/"
    },
    "executionInfo": {
     "elapsed": 342,
     "status": "ok",
     "timestamp": 1722435190306,
     "user": {
      "displayName": "Abraham Zamudio",
      "userId": "17856795790189684981"
     },
     "user_tz": 300
    },
    "id": "O9jukCDfH1lz",
    "outputId": "2b29c1b6-619c-4b24-f300-441ad93254a5"
   },
   "outputs": [
    {
     "name": "stdout",
     "output_type": "stream",
     "text": [
      "P\n",
      "Y\n",
      "T\n",
      "H\n",
      "O\n",
      "N\n"
     ]
    }
   ],
   "source": [
    "for caracter in \"PYTHON\":\n",
    "  print(caracter)"
   ]
  },
  {
   "cell_type": "code",
   "execution_count": 20,
   "metadata": {
    "colab": {
     "base_uri": "https://localhost:8080/"
    },
    "collapsed": true,
    "executionInfo": {
     "elapsed": 335,
     "status": "ok",
     "timestamp": 1722435279929,
     "user": {
      "displayName": "Abraham Zamudio",
      "userId": "17856795790189684981"
     },
     "user_tz": 300
    },
    "id": "zKrHVru3JDdn",
    "outputId": "7ab1b44b-d13f-40cb-a2ee-a523291247d9"
   },
   "outputs": [
    {
     "name": "stdout",
     "output_type": "stream",
     "text": [
      "Help on class range in module builtins:\n",
      "\n",
      "class range(object)\n",
      " |  range(stop) -> range object\n",
      " |  range(start, stop[, step]) -> range object\n",
      " |  \n",
      " |  Return an object that produces a sequence of integers from start (inclusive)\n",
      " |  to stop (exclusive) by step.  range(i, j) produces i, i+1, i+2, ..., j-1.\n",
      " |  start defaults to 0, and stop is omitted!  range(4) produces 0, 1, 2, 3.\n",
      " |  These are exactly the valid indices for a list of 4 elements.\n",
      " |  When step is given, it specifies the increment (or decrement).\n",
      " |  \n",
      " |  Methods defined here:\n",
      " |  \n",
      " |  __bool__(self, /)\n",
      " |      True if self else False\n",
      " |  \n",
      " |  __contains__(self, key, /)\n",
      " |      Return key in self.\n",
      " |  \n",
      " |  __eq__(self, value, /)\n",
      " |      Return self==value.\n",
      " |  \n",
      " |  __ge__(self, value, /)\n",
      " |      Return self>=value.\n",
      " |  \n",
      " |  __getattribute__(self, name, /)\n",
      " |      Return getattr(self, name).\n",
      " |  \n",
      " |  __getitem__(self, key, /)\n",
      " |      Return self[key].\n",
      " |  \n",
      " |  __gt__(self, value, /)\n",
      " |      Return self>value.\n",
      " |  \n",
      " |  __hash__(self, /)\n",
      " |      Return hash(self).\n",
      " |  \n",
      " |  __iter__(self, /)\n",
      " |      Implement iter(self).\n",
      " |  \n",
      " |  __le__(self, value, /)\n",
      " |      Return self<=value.\n",
      " |  \n",
      " |  __len__(self, /)\n",
      " |      Return len(self).\n",
      " |  \n",
      " |  __lt__(self, value, /)\n",
      " |      Return self<value.\n",
      " |  \n",
      " |  __ne__(self, value, /)\n",
      " |      Return self!=value.\n",
      " |  \n",
      " |  __reduce__(...)\n",
      " |      Helper for pickle.\n",
      " |  \n",
      " |  __repr__(self, /)\n",
      " |      Return repr(self).\n",
      " |  \n",
      " |  __reversed__(...)\n",
      " |      Return a reverse iterator.\n",
      " |  \n",
      " |  count(...)\n",
      " |      rangeobject.count(value) -> integer -- return number of occurrences of value\n",
      " |  \n",
      " |  index(...)\n",
      " |      rangeobject.index(value) -> integer -- return index of value.\n",
      " |      Raise ValueError if the value is not present.\n",
      " |  \n",
      " |  ----------------------------------------------------------------------\n",
      " |  Static methods defined here:\n",
      " |  \n",
      " |  __new__(*args, **kwargs) from builtins.type\n",
      " |      Create and return a new object.  See help(type) for accurate signature.\n",
      " |  \n",
      " |  ----------------------------------------------------------------------\n",
      " |  Data descriptors defined here:\n",
      " |  \n",
      " |  start\n",
      " |  \n",
      " |  step\n",
      " |  \n",
      " |  stop\n",
      "\n"
     ]
    }
   ],
   "source": [
    "# Funcion range\n",
    "help(range)"
   ]
  },
  {
   "cell_type": "code",
   "execution_count": 22,
   "metadata": {
    "colab": {
     "base_uri": "https://localhost:8080/"
    },
    "executionInfo": {
     "elapsed": 318,
     "status": "ok",
     "timestamp": 1722435362585,
     "user": {
      "displayName": "Abraham Zamudio",
      "userId": "17856795790189684981"
     },
     "user_tz": 300
    },
    "id": "NtKQTa0IJXXv",
    "outputId": "e66086a4-424d-412b-a0e3-8fde29c46fc4"
   },
   "outputs": [
    {
     "data": {
      "text/plain": [
       "range(0, 10)"
      ]
     },
     "execution_count": 22,
     "metadata": {},
     "output_type": "execute_result"
    }
   ],
   "source": [
    "x = range(10)\n",
    "x"
   ]
  },
  {
   "cell_type": "code",
   "execution_count": 23,
   "metadata": {
    "colab": {
     "base_uri": "https://localhost:8080/"
    },
    "executionInfo": {
     "elapsed": 297,
     "status": "ok",
     "timestamp": 1722435382988,
     "user": {
      "displayName": "Abraham Zamudio",
      "userId": "17856795790189684981"
     },
     "user_tz": 300
    },
    "id": "rRh007v4JhX7",
    "outputId": "14970204-bd5c-41a4-9be7-fc79e4c14ef4"
   },
   "outputs": [
    {
     "data": {
      "text/plain": [
       "range"
      ]
     },
     "execution_count": 23,
     "metadata": {},
     "output_type": "execute_result"
    }
   ],
   "source": [
    "type(x)"
   ]
  },
  {
   "cell_type": "code",
   "execution_count": 24,
   "metadata": {
    "colab": {
     "base_uri": "https://localhost:8080/"
    },
    "executionInfo": {
     "elapsed": 294,
     "status": "ok",
     "timestamp": 1722435405505,
     "user": {
      "displayName": "Abraham Zamudio",
      "userId": "17856795790189684981"
     },
     "user_tz": 300
    },
    "id": "YQqcV6IOJlO5",
    "outputId": "f952d383-8b4d-44f9-d7ab-0255119f284b"
   },
   "outputs": [
    {
     "data": {
      "text/plain": [
       "range(0, 100, 3)"
      ]
     },
     "execution_count": 24,
     "metadata": {},
     "output_type": "execute_result"
    }
   ],
   "source": [
    "y = range(0, 100, 3)\n",
    "y"
   ]
  },
  {
   "cell_type": "code",
   "execution_count": 25,
   "metadata": {
    "colab": {
     "base_uri": "https://localhost:8080/"
    },
    "executionInfo": {
     "elapsed": 346,
     "status": "ok",
     "timestamp": 1722435450915,
     "user": {
      "displayName": "Abraham Zamudio",
      "userId": "17856795790189684981"
     },
     "user_tz": 300
    },
    "id": "WMAAq_5iJreE",
    "outputId": "ef7c3ccb-f2e7-4c7b-c5e8-8df4cf92563a"
   },
   "outputs": [
    {
     "name": "stdout",
     "output_type": "stream",
     "text": [
      "0\n",
      "3\n",
      "6\n",
      "9\n",
      "12\n",
      "15\n",
      "18\n",
      "21\n",
      "24\n",
      "27\n",
      "30\n",
      "33\n",
      "36\n",
      "39\n",
      "42\n",
      "45\n",
      "48\n",
      "51\n",
      "54\n",
      "57\n",
      "60\n",
      "63\n",
      "66\n",
      "69\n",
      "72\n",
      "75\n",
      "78\n",
      "81\n",
      "84\n",
      "87\n",
      "90\n",
      "93\n",
      "96\n",
      "99\n"
     ]
    }
   ],
   "source": [
    "# Usemos una estructura de repeticion for para mostrar los elementos de un range\n",
    "for elemento in range(0, 100, 3):\n",
    "  print(elemento)"
   ]
  },
  {
   "cell_type": "code",
   "execution_count": 26,
   "metadata": {
    "colab": {
     "base_uri": "https://localhost:8080/"
    },
    "executionInfo": {
     "elapsed": 289,
     "status": "ok",
     "timestamp": 1722435537758,
     "user": {
      "displayName": "Abraham Zamudio",
      "userId": "17856795790189684981"
     },
     "user_tz": 300
    },
    "id": "91FpsubuJ9yX",
    "outputId": "cc950774-5fe9-43bb-b018-47ec2831b014"
   },
   "outputs": [
    {
     "name": "stdout",
     "output_type": "stream",
     "text": [
      "0 \t 0\n",
      "7 \t 49\n",
      "14 \t 196\n",
      "21 \t 441\n",
      "28 \t 784\n",
      "35 \t 1225\n",
      "42 \t 1764\n",
      "49 \t 2401\n",
      "56 \t 3136\n",
      "63 \t 3969\n",
      "70 \t 4900\n",
      "77 \t 5929\n",
      "84 \t 7056\n",
      "91 \t 8281\n",
      "98 \t 9604\n"
     ]
    }
   ],
   "source": [
    "for elemento in range(0,100, 7):\n",
    "  print(elemento , \"\\t\", elemento**2)"
   ]
  },
  {
   "cell_type": "code",
   "execution_count": 28,
   "metadata": {
    "colab": {
     "base_uri": "https://localhost:8080/"
    },
    "executionInfo": {
     "elapsed": 320,
     "status": "ok",
     "timestamp": 1722435871538,
     "user": {
      "displayName": "Abraham Zamudio",
      "userId": "17856795790189684981"
     },
     "user_tz": 300
    },
    "id": "YSEDNQ9EK_KL",
    "outputId": "f6681a28-1ec2-4f2a-952e-74f5da0f7ecd"
   },
   "outputs": [
    {
     "name": "stdout",
     "output_type": "stream",
     "text": [
      "0 \t 0 \t 0\n",
      "7 \t 6 \t 2\n",
      "14 \t 14 \t 11\n",
      "21 \t 4 \t 11\n",
      "28 \t 22 \t 16\n",
      "35 \t 9 \t 3\n",
      "42 \t 24 \t 41\n",
      "49 \t 20 \t 24\n",
      "56 \t 50 \t 48\n",
      "63 \t 62 \t 42\n",
      "70 \t 4 \t 48\n",
      "77 \t 12 \t 13\n",
      "84 \t 72 \t 20\n",
      "91 \t 30 \t 76\n",
      "98 \t 11 \t 90\n"
     ]
    }
   ],
   "source": [
    "for elemento in range(0,100,7):\n",
    "  print(elemento , \"\\t\", rnd.randint(0,elemento), \"\\t\", rnd.randint(0,elemento))"
   ]
  },
  {
   "cell_type": "code",
   "execution_count": 29,
   "metadata": {
    "colab": {
     "base_uri": "https://localhost:8080/"
    },
    "executionInfo": {
     "elapsed": 318,
     "status": "ok",
     "timestamp": 1722436063996,
     "user": {
      "displayName": "Abraham Zamudio",
      "userId": "17856795790189684981"
     },
     "user_tz": 300
    },
    "id": "7bjbNghKLpWs",
    "outputId": "dfd664e6-801a-4453-f1f4-d27ea878a3ad"
   },
   "outputs": [
    {
     "name": "stdout",
     "output_type": "stream",
     "text": [
      "Matriz [ 0 ,  0 ] =  -11\n",
      "Matriz [ 0 ,  1 ] =  6\n",
      "Matriz [ 0 ,  2 ] =  -9\n",
      "Matriz [ 1 ,  0 ] =  -4\n",
      "Matriz [ 1 ,  1 ] =  -9\n",
      "Matriz [ 1 ,  2 ] =  14\n",
      "Matriz [ 2 ,  0 ] =  8\n",
      "Matriz [ 2 ,  1 ] =  -11\n",
      "Matriz [ 2 ,  2 ] =  2\n"
     ]
    }
   ],
   "source": [
    "# Definamos una matriz de 3x3 con elementos aleatorios\n",
    "for fila in range(3):\n",
    "  for columna in range(3):\n",
    "    print(\"Matriz [\", fila , \", \", columna , \"] = \", rnd.randint(-20,20) )"
   ]
  },
  {
   "cell_type": "markdown",
   "metadata": {
    "id": "IvpXkJswM54c"
   },
   "source": [
    "### El modulo string"
   ]
  },
  {
   "cell_type": "code",
   "execution_count": 30,
   "metadata": {
    "executionInfo": {
     "elapsed": 321,
     "status": "ok",
     "timestamp": 1722436305857,
     "user": {
      "displayName": "Abraham Zamudio",
      "userId": "17856795790189684981"
     },
     "user_tz": 300
    },
    "id": "gWFfGK2XMoTT"
   },
   "outputs": [],
   "source": [
    "# importamos el modulo string\n",
    "import string"
   ]
  },
  {
   "cell_type": "code",
   "execution_count": 31,
   "metadata": {
    "colab": {
     "base_uri": "https://localhost:8080/"
    },
    "collapsed": true,
    "executionInfo": {
     "elapsed": 442,
     "status": "ok",
     "timestamp": 1722436336916,
     "user": {
      "displayName": "Abraham Zamudio",
      "userId": "17856795790189684981"
     },
     "user_tz": 300
    },
    "id": "pMZy-7h0NHfI",
    "outputId": "a195b965-5a2c-4af8-a33a-ddabc90cb76c"
   },
   "outputs": [
    {
     "name": "stdout",
     "output_type": "stream",
     "text": [
      "Help on module string:\n",
      "\n",
      "NAME\n",
      "    string - A collection of string constants.\n",
      "\n",
      "MODULE REFERENCE\n",
      "    https://docs.python.org/3.10/library/string.html\n",
      "    \n",
      "    The following documentation is automatically generated from the Python\n",
      "    source files.  It may be incomplete, incorrect or include features that\n",
      "    are considered implementation detail and may vary between Python\n",
      "    implementations.  When in doubt, consult the module reference at the\n",
      "    location listed above.\n",
      "\n",
      "DESCRIPTION\n",
      "    Public module variables:\n",
      "    \n",
      "    whitespace -- a string containing all ASCII whitespace\n",
      "    ascii_lowercase -- a string containing all ASCII lowercase letters\n",
      "    ascii_uppercase -- a string containing all ASCII uppercase letters\n",
      "    ascii_letters -- a string containing all ASCII letters\n",
      "    digits -- a string containing all ASCII decimal digits\n",
      "    hexdigits -- a string containing all ASCII hexadecimal digits\n",
      "    octdigits -- a string containing all ASCII octal digits\n",
      "    punctuation -- a string containing all ASCII punctuation characters\n",
      "    printable -- a string containing all ASCII characters considered printable\n",
      "\n",
      "CLASSES\n",
      "    builtins.object\n",
      "        Formatter\n",
      "        Template\n",
      "    \n",
      "    class Formatter(builtins.object)\n",
      "     |  Methods defined here:\n",
      "     |  \n",
      "     |  check_unused_args(self, used_args, args, kwargs)\n",
      "     |  \n",
      "     |  convert_field(self, value, conversion)\n",
      "     |  \n",
      "     |  format(self, format_string, /, *args, **kwargs)\n",
      "     |  \n",
      "     |  format_field(self, value, format_spec)\n",
      "     |  \n",
      "     |  get_field(self, field_name, args, kwargs)\n",
      "     |      # given a field_name, find the object it references.\n",
      "     |      #  field_name:   the field being looked up, e.g. \"0.name\"\n",
      "     |      #                 or \"lookup[3]\"\n",
      "     |      #  used_args:    a set of which args have been used\n",
      "     |      #  args, kwargs: as passed in to vformat\n",
      "     |  \n",
      "     |  get_value(self, key, args, kwargs)\n",
      "     |  \n",
      "     |  parse(self, format_string)\n",
      "     |      # returns an iterable that contains tuples of the form:\n",
      "     |      # (literal_text, field_name, format_spec, conversion)\n",
      "     |      # literal_text can be zero length\n",
      "     |      # field_name can be None, in which case there's no\n",
      "     |      #  object to format and output\n",
      "     |      # if field_name is not None, it is looked up, formatted\n",
      "     |      #  with format_spec and conversion and then used\n",
      "     |  \n",
      "     |  vformat(self, format_string, args, kwargs)\n",
      "     |  \n",
      "     |  ----------------------------------------------------------------------\n",
      "     |  Data descriptors defined here:\n",
      "     |  \n",
      "     |  __dict__\n",
      "     |      dictionary for instance variables (if defined)\n",
      "     |  \n",
      "     |  __weakref__\n",
      "     |      list of weak references to the object (if defined)\n",
      "    \n",
      "    class Template(builtins.object)\n",
      "     |  Template(template)\n",
      "     |  \n",
      "     |  A string class for supporting $-substitutions.\n",
      "     |  \n",
      "     |  Methods defined here:\n",
      "     |  \n",
      "     |  __init__(self, template)\n",
      "     |      Initialize self.  See help(type(self)) for accurate signature.\n",
      "     |  \n",
      "     |  safe_substitute(self, mapping={}, /, **kws)\n",
      "     |  \n",
      "     |  substitute(self, mapping={}, /, **kws)\n",
      "     |  \n",
      "     |  ----------------------------------------------------------------------\n",
      "     |  Class methods defined here:\n",
      "     |  \n",
      "     |  __init_subclass__() from builtins.type\n",
      "     |      This method is called when a class is subclassed.\n",
      "     |      \n",
      "     |      The default implementation does nothing. It may be\n",
      "     |      overridden to extend subclasses.\n",
      "     |  \n",
      "     |  ----------------------------------------------------------------------\n",
      "     |  Data descriptors defined here:\n",
      "     |  \n",
      "     |  __dict__\n",
      "     |      dictionary for instance variables (if defined)\n",
      "     |  \n",
      "     |  __weakref__\n",
      "     |      list of weak references to the object (if defined)\n",
      "     |  \n",
      "     |  ----------------------------------------------------------------------\n",
      "     |  Data and other attributes defined here:\n",
      "     |  \n",
      "     |  braceidpattern = None\n",
      "     |  \n",
      "     |  delimiter = '$'\n",
      "     |  \n",
      "     |  flags = re.IGNORECASE\n",
      "     |  \n",
      "     |  idpattern = '(?a:[_a-z][_a-z0-9]*)'\n",
      "     |  \n",
      "     |  pattern = re.compile('\\n            \\\\$(?:\\n              ...identifie...\n",
      "\n",
      "FUNCTIONS\n",
      "    capwords(s, sep=None)\n",
      "        capwords(s [,sep]) -> string\n",
      "        \n",
      "        Split the argument into words using split, capitalize each\n",
      "        word using capitalize, and join the capitalized words using\n",
      "        join.  If the optional second argument sep is absent or None,\n",
      "        runs of whitespace characters are replaced by a single space\n",
      "        and leading and trailing whitespace are removed, otherwise\n",
      "        sep is used to split and join the words.\n",
      "\n",
      "DATA\n",
      "    __all__ = ['ascii_letters', 'ascii_lowercase', 'ascii_uppercase', 'cap...\n",
      "    ascii_letters = 'abcdefghijklmnopqrstuvwxyzABCDEFGHIJKLMNOPQRSTUVWXYZ'\n",
      "    ascii_lowercase = 'abcdefghijklmnopqrstuvwxyz'\n",
      "    ascii_uppercase = 'ABCDEFGHIJKLMNOPQRSTUVWXYZ'\n",
      "    digits = '0123456789'\n",
      "    hexdigits = '0123456789abcdefABCDEF'\n",
      "    octdigits = '01234567'\n",
      "    printable = '0123456789abcdefghijklmnopqrstuvwxyzABCDEFGHIJKLMNOPQRSTU...\n",
      "    punctuation = '!\"#$%&\\'()*+,-./:;<=>?@[\\\\]^_`{|}~'\n",
      "    whitespace = ' \\t\\n\\r\\x0b\\x0c'\n",
      "\n",
      "FILE\n",
      "    /usr/lib/python3.10/string.py\n",
      "\n",
      "\n"
     ]
    }
   ],
   "source": [
    "# Documentacion del modulo string\n",
    "help(string)"
   ]
  },
  {
   "cell_type": "code",
   "execution_count": null,
   "metadata": {
    "id": "Org2mkV7NVtB"
   },
   "outputs": [],
   "source": [
    "# ascii_lowercase -- a string containing all ASCII lowercase letters\n",
    "# ascii_uppercase -- a string containing all ASCII uppercase letters\n",
    "# ascii_letters -- a string containing all ASCII letters"
   ]
  },
  {
   "cell_type": "code",
   "execution_count": 32,
   "metadata": {
    "colab": {
     "base_uri": "https://localhost:8080/"
    },
    "executionInfo": {
     "elapsed": 301,
     "status": "ok",
     "timestamp": 1722436409412,
     "user": {
      "displayName": "Abraham Zamudio",
      "userId": "17856795790189684981"
     },
     "user_tz": 300
    },
    "id": "qTS2TK_FNYjQ",
    "outputId": "bbec9c3a-66ff-4eb0-bd19-03727b1b2aad"
   },
   "outputs": [
    {
     "name": "stdout",
     "output_type": "stream",
     "text": [
      "No Python documentation found for 'abcdefghijklmnopqrstuvwxyz'.\n",
      "Use help() to get the interactive help utility.\n",
      "Use help(str) for help on the str class.\n",
      "\n"
     ]
    }
   ],
   "source": [
    "# Documentacion de ascii_lowercase\n",
    "help(string.ascii_lowercase)"
   ]
  },
  {
   "cell_type": "code",
   "execution_count": 33,
   "metadata": {
    "colab": {
     "base_uri": "https://localhost:8080/",
     "height": 36
    },
    "executionInfo": {
     "elapsed": 345,
     "status": "ok",
     "timestamp": 1722436443586,
     "user": {
      "displayName": "Abraham Zamudio",
      "userId": "17856795790189684981"
     },
     "user_tz": 300
    },
    "id": "BwqxoqjqNhUL",
    "outputId": "70555f58-808d-4236-eaf2-06de4488e603"
   },
   "outputs": [
    {
     "data": {
      "application/vnd.google.colaboratory.intrinsic+json": {
       "type": "string"
      },
      "text/plain": [
       "'abcdefghijklmnopqrstuvwxyz'"
      ]
     },
     "execution_count": 33,
     "metadata": {},
     "output_type": "execute_result"
    }
   ],
   "source": [
    "# Valor almacena ascii_lowercase\n",
    "string.ascii_lowercase"
   ]
  },
  {
   "cell_type": "code",
   "execution_count": 34,
   "metadata": {
    "colab": {
     "base_uri": "https://localhost:8080/",
     "height": 36
    },
    "executionInfo": {
     "elapsed": 286,
     "status": "ok",
     "timestamp": 1722436475304,
     "user": {
      "displayName": "Abraham Zamudio",
      "userId": "17856795790189684981"
     },
     "user_tz": 300
    },
    "id": "0B8Vre8QNoz7",
    "outputId": "82b57931-d242-4d43-e705-61f508902848"
   },
   "outputs": [
    {
     "data": {
      "application/vnd.google.colaboratory.intrinsic+json": {
       "type": "string"
      },
      "text/plain": [
       "'ABCDEFGHIJKLMNOPQRSTUVWXYZ'"
      ]
     },
     "execution_count": 34,
     "metadata": {},
     "output_type": "execute_result"
    }
   ],
   "source": [
    "# valor que almacena ascii_uppercase\n",
    "string.ascii_uppercase"
   ]
  },
  {
   "cell_type": "code",
   "execution_count": 35,
   "metadata": {
    "colab": {
     "base_uri": "https://localhost:8080/",
     "height": 36
    },
    "executionInfo": {
     "elapsed": 315,
     "status": "ok",
     "timestamp": 1722436522333,
     "user": {
      "displayName": "Abraham Zamudio",
      "userId": "17856795790189684981"
     },
     "user_tz": 300
    },
    "id": "JHzNMnVyN0FI",
    "outputId": "446a1486-52b2-4756-cbfb-699fa17ce0f7"
   },
   "outputs": [
    {
     "data": {
      "application/vnd.google.colaboratory.intrinsic+json": {
       "type": "string"
      },
      "text/plain": [
       "'abcdefghijklmnopqrstuvwxyzABCDEFGHIJKLMNOPQRSTUVWXYZ'"
      ]
     },
     "execution_count": 35,
     "metadata": {},
     "output_type": "execute_result"
    }
   ],
   "source": [
    "# valor que almacena ascii_letters\n",
    "string.ascii_letters"
   ]
  },
  {
   "cell_type": "code",
   "execution_count": 45,
   "metadata": {
    "colab": {
     "base_uri": "https://localhost:8080/"
    },
    "executionInfo": {
     "elapsed": 299,
     "status": "ok",
     "timestamp": 1722436903400,
     "user": {
      "displayName": "Abraham Zamudio",
      "userId": "17856795790189684981"
     },
     "user_tz": 300
    },
    "id": "stBnXX7aN84-",
    "outputId": "38063a88-3b2b-4c16-f472-40d776f783d7"
   },
   "outputs": [
    {
     "name": "stdout",
     "output_type": "stream",
     "text": [
      "hdrbwtxntsvkunggsenaicwklqnvaoszhswplshxrjnfpskmbegoyjwqywypljlhpdkhhapnpqkmkttgbpiyzfaiabtiwkdvhyanwtdpdzicjmldaxfogvazoghdtrlnghxbwzcpmstrenwmwbqvbzevledypruzfdfaioadggxosbevfjktsoallsfzpwsjjefjuaetxhvkrmlwupqulqwxypxufndptyhbmclejkceckppynwzvojwdykoktpndicbjpfxhfufjqoovgaucxkmgzusvhfeueytsykmaiqlcjlpfkqibgxuxicwxozyjpvsvbjakewllixgbhhlwrpxeofnshntgizsqckxbjznzaqzwahizawjkoaztclokpthmskecuebnevkjbnmwvhvyrrcdzcaxkoztkqivbemrtryoeorfnojctngqbyopagbxgsvpjjdfmwrxmbxkcbpfkwfctzjrduuyteplwvvwqfuemfcuxitwvyaozswpfkayckwplnrrsqitdlusveoqzffazrbbfbycewwaebiyhnjntszmtuxduogcnysenhrbidiswtlaypjiybdqlbblcwgibgceyxjwbzcxliprrnifsffhsjgmifmmskhrcbgguvznafertpnhkrqaopquavldnofqfakadvjarjdjosqpzcyorrwejhpajnnunibmcqrtirlwdqnctfwflmwknefivijmnwnixnabwcirzlwpqhxznjwgeiddkkzhmgotxlxydzwbzhofmhdbbgkmsqaympnxxfxzkrcmbryayhwskdjfdmiydyjktrrwjastsktfquebvuskabszhuoczihfosasdnunhzesifqqbbftjdyozcwdotjumuimysnchwaprulesrwieqjjmoigliorjivhmhgiqotcsugpaeocbsyesqejgeftxvlutsjyiepgqmrgyjpfrqkcagtuxkghwkssmngwwdh\n",
      "Numero de elementos 1000\n"
     ]
    }
   ],
   "source": [
    "# Generemos un caracter de ascii_lowercase aleatorio\n",
    "NumCaracteres = len(string.ascii_lowercase)\n",
    "\n",
    "# Guardemos caracteres seleccionados de manera aleatoria en una cadena de caracteres\n",
    "cadena = ''\n",
    "\n",
    "# Seleccionemos caracteres aleatorios un numero de 1000 veces\n",
    "for vez in range(1000):\n",
    "  Indice = rnd.randint(0, NumCaracteres-1)\n",
    "  # print(string.ascii_lowercase[Indice])\n",
    "  cadena = cadena + string.ascii_lowercase[Indice]\n",
    "\n",
    "# Mostrar esa cadena\n",
    "print(cadena)\n",
    "print(\"Numero de elementos\", len(cadena))"
   ]
  },
  {
   "cell_type": "code",
   "execution_count": 46,
   "metadata": {
    "colab": {
     "base_uri": "https://localhost:8080/"
    },
    "executionInfo": {
     "elapsed": 291,
     "status": "ok",
     "timestamp": 1722436946658,
     "user": {
      "displayName": "Abraham Zamudio",
      "userId": "17856795790189684981"
     },
     "user_tz": 300
    },
    "id": "yZLRNuiYPbDu",
    "outputId": "15b588ae-acd2-4fda-ae2f-54f484bc7024"
   },
   "outputs": [
    {
     "data": {
      "text/plain": [
       "42"
      ]
     },
     "execution_count": 46,
     "metadata": {},
     "output_type": "execute_result"
    }
   ],
   "source": [
    "# Numero de veces que aparece la letra \"a\" en la variable cadena\n",
    "cadena.count(\"a\")"
   ]
  },
  {
   "cell_type": "code",
   "execution_count": 47,
   "metadata": {
    "colab": {
     "base_uri": "https://localhost:8080/"
    },
    "executionInfo": {
     "elapsed": 304,
     "status": "ok",
     "timestamp": 1722437070395,
     "user": {
      "displayName": "Abraham Zamudio",
      "userId": "17856795790189684981"
     },
     "user_tz": 300
    },
    "id": "9EboJT_ZPnjx",
    "outputId": "ad575fa9-20c6-4bbf-8110-04c1e9b9e01a"
   },
   "outputs": [
    {
     "name": "stdout",
     "output_type": "stream",
     "text": [
      " caracter :  a  Numero de veces  42\n",
      " caracter :  b  Numero de veces  43\n",
      " caracter :  c  Numero de veces  37\n",
      " caracter :  d  Numero de veces  35\n",
      " caracter :  e  Numero de veces  39\n",
      " caracter :  f  Numero de veces  44\n",
      " caracter :  g  Numero de veces  35\n",
      " caracter :  h  Numero de veces  38\n",
      " caracter :  i  Numero de veces  41\n",
      " caracter :  j  Numero de veces  44\n",
      " caracter :  k  Numero de veces  43\n",
      " caracter :  l  Numero de veces  33\n",
      " caracter :  m  Numero de veces  34\n",
      " caracter :  n  Numero de veces  42\n",
      " caracter :  o  Numero de veces  37\n",
      " caracter :  p  Numero de veces  40\n",
      " caracter :  q  Numero de veces  33\n",
      " caracter :  r  Numero de veces  38\n",
      " caracter :  s  Numero de veces  45\n",
      " caracter :  t  Numero de veces  39\n",
      " caracter :  u  Numero de veces  32\n",
      " caracter :  v  Numero de veces  29\n",
      " caracter :  w  Numero de veces  50\n",
      " caracter :  x  Numero de veces  33\n",
      " caracter :  y  Numero de veces  37\n",
      " caracter :  z  Numero de veces  37\n"
     ]
    }
   ],
   "source": [
    "# Numero de veces que aparece cada caracter de ascii_lowercase en la variable cadena\n",
    "for i in string.ascii_lowercase:\n",
    "  Numvez = cadena.count(i)\n",
    "  print(\" caracter : \", i , \" Numero de veces \", Numvez)"
   ]
  }
 ],
 "metadata": {
  "colab": {
   "authorship_tag": "ABX9TyP7qhnCev6sPF1Wc4mKyaVj",
   "provenance": []
  },
  "kernelspec": {
   "display_name": "Python 3 (ipykernel)",
   "language": "python",
   "name": "python3"
  },
  "language_info": {
   "codemirror_mode": {
    "name": "ipython",
    "version": 3
   },
   "file_extension": ".py",
   "mimetype": "text/x-python",
   "name": "python",
   "nbconvert_exporter": "python",
   "pygments_lexer": "ipython3",
   "version": "3.11.0"
  }
 },
 "nbformat": 4,
 "nbformat_minor": 1
}
